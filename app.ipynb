{
 "cells": [
  {
   "cell_type": "code",
   "execution_count": 20,
   "metadata": {},
   "outputs": [],
   "source": [
    "import pandas as pd\n",
    "import numpy as np\n",
    "from fastapi import FastAPI"
   ]
  },
  {
   "cell_type": "code",
   "execution_count": 21,
   "metadata": {},
   "outputs": [],
   "source": [
    "app =FastAPI()"
   ]
  },
  {
   "cell_type": "markdown",
   "metadata": {},
   "source": [
    "cargar datos"
   ]
  },
  {
   "cell_type": "code",
   "execution_count": 22,
   "metadata": {},
   "outputs": [],
   "source": [
    "def load_datos():\n",
    "    df=pd.read_csv('Data/co-emissions-per-capita new.csv')\n",
    "    df['Annual CO₂ emissions (per capita)']=df[('Annual CO₂ emissions (per capita)')].str.replace('.','')\n",
    "    df['Annual CO₂ emissions (per capita)']=df[('Annual CO₂ emissions (per capita)')].astype('int')\n",
    "    df['Annual CO₂ emissions (per capita)']=round(df[('Annual CO₂ emissions (per capita)')]/1000000,2)\n",
    "    return df\n",
    "df = load_datos()"
   ]
  },
  {
   "cell_type": "markdown",
   "metadata": {},
   "source": [
    "Definicio de rutas"
   ]
  },
  {
   "cell_type": "markdown",
   "metadata": {},
   "source": [
    "Ruta raíz (/): Devuelve un mensaje de bienvenida"
   ]
  },
  {
   "cell_type": "code",
   "execution_count": 23,
   "metadata": {},
   "outputs": [],
   "source": [
    "@app.get(\"/\")\n",
    "def index():\n",
    "    return{\"api\"/\"Bienvenido\"}"
   ]
  },
  {
   "cell_type": "markdown",
   "metadata": {},
   "source": [
    "Ruta para obtener todos los datos (/data): Devuelve todos los datos \n",
    "del DataFrame en formato JSON."
   ]
  },
  {
   "cell_type": "code",
   "execution_count": 24,
   "metadata": {},
   "outputs": [],
   "source": [
    "@app.get('/data')\n",
    "def data():\n",
    "    pais=list(df['Entity'].unique())\n",
    "    dic={}\n",
    "    for i in pais:\n",
    "        data=df[df['Entity']==i].sort_values(ascending=False, by='Year')\n",
    "        dic2={}\n",
    "        for j in range(len(data)):\n",
    "            dic2[int(data['Year'].iloc[j])]= float(data['Annual CO₂ emissions (per capita)'].iloc[j])\n",
    "            dic[data['Entity'].iloc[0]]=dic2\n",
    "        return dic"
   ]
  },
  {
   "cell_type": "code",
   "execution_count": 25,
   "metadata": {},
   "outputs": [
    {
     "data": {
      "text/plain": [
       "{'Africa': {2022: 99.42,\n",
       "  2021: 10.31,\n",
       "  2020: 9.98,\n",
       "  2019: 10.99,\n",
       "  2018: 10.49,\n",
       "  2017: 10.86,\n",
       "  2016: 11.02,\n",
       "  2015: 11.0,\n",
       "  2014: 11.51,\n",
       "  2013: 11.11,\n",
       "  2012: 11.32,\n",
       "  2011: 11.61,\n",
       "  2010: 1.15,\n",
       "  2009: 11.43,\n",
       "  2008: 11.75,\n",
       "  2007: 11.51,\n",
       "  2006: 11.49,\n",
       "  2005: 11.47,\n",
       "  2004: 1.16,\n",
       "  2003: 1.12,\n",
       "  2002: 10.46,\n",
       "  2001: 10.97,\n",
       "  2000: 11.37,\n",
       "  1999: 1.13,\n",
       "  1998: 11.72,\n",
       "  1997: 11.76,\n",
       "  1996: 11.76,\n",
       "  1995: 11.68,\n",
       "  1994: 11.2,\n",
       "  1993: 10.27,\n",
       "  1992: 99.4,\n",
       "  1991: 10.52,\n",
       "  1990: 0.1,\n",
       "  1989: 11.25,\n",
       "  1988: 12.01,\n",
       "  1987: 11.75,\n",
       "  1986: 12.08,\n",
       "  1985: 12.0,\n",
       "  1984: 12.04,\n",
       "  1983: 11.33,\n",
       "  1982: 1.12,\n",
       "  1981: 11.08,\n",
       "  1980: 11.14,\n",
       "  1979: 10.68,\n",
       "  1978: 10.19,\n",
       "  1977: 98.2,\n",
       "  1976: 9.79,\n",
       "  1975: 9.29,\n",
       "  1974: 95.79,\n",
       "  1973: 95.8,\n",
       "  1972: 0.92,\n",
       "  1971: 88.62,\n",
       "  1970: 0.83,\n",
       "  1969: 7.82,\n",
       "  1968: 7.43,\n",
       "  1967: 0.7,\n",
       "  1966: 6.72,\n",
       "  1965: 66.57,\n",
       "  1964: 6.19,\n",
       "  1963: 5.78,\n",
       "  1962: 5.58,\n",
       "  1961: 5.57,\n",
       "  1960: 5.52,\n",
       "  1959: 53.33,\n",
       "  1958: 5.49,\n",
       "  1957: 5.34,\n",
       "  1956: 52.11,\n",
       "  1955: 5.1,\n",
       "  1954: 4.74,\n",
       "  1953: 46.18,\n",
       "  1952: 46.5,\n",
       "  1951: 43.55,\n",
       "  1950: 41.74,\n",
       "  1949: 34.67,\n",
       "  1948: 32.73,\n",
       "  1947: 31.51,\n",
       "  1946: 32.12,\n",
       "  1945: 32.34,\n",
       "  1944: 3.24,\n",
       "  1943: 29.74,\n",
       "  1942: 2.96,\n",
       "  1941: 27.57,\n",
       "  1940: 25.71,\n",
       "  1939: 24.61,\n",
       "  1938: 23.43,\n",
       "  1937: 22.56,\n",
       "  1936: 21.31,\n",
       "  1935: 19.86,\n",
       "  1934: 18.23,\n",
       "  1933: 16.16,\n",
       "  1932: 15.3,\n",
       "  1931: 17.14,\n",
       "  1930: 19.85,\n",
       "  1929: 21.36,\n",
       "  1928: 21.01,\n",
       "  1927: 2.07,\n",
       "  1926: 21.33,\n",
       "  1925: 20.18,\n",
       "  1924: 19.45,\n",
       "  1923: 18.67,\n",
       "  1922: 15.6,\n",
       "  1921: 18.4,\n",
       "  1920: 18.62,\n",
       "  1919: 17.01,\n",
       "  1918: 16.63,\n",
       "  1917: 17.11,\n",
       "  1916: 15.77,\n",
       "  1915: 13.35,\n",
       "  1914: 13.37,\n",
       "  1913: 13.46,\n",
       "  1912: 123.76,\n",
       "  1911: 0.12,\n",
       "  1910: 12.1,\n",
       "  1909: 10.74,\n",
       "  1908: 9.39,\n",
       "  1907: 0.91,\n",
       "  1906: 8.28,\n",
       "  1905: 7.28,\n",
       "  1904: 6.34,\n",
       "  1903: 56.4,\n",
       "  1902: 4.18,\n",
       "  1901: 28.12,\n",
       "  1900: 16.82,\n",
       "  1899: 39.94,\n",
       "  1898: 43.9,\n",
       "  1897: 34.76,\n",
       "  1896: 31.06,\n",
       "  1895: 24.41,\n",
       "  1894: 17.83,\n",
       "  1893: 13.22,\n",
       "  1892: 35.35,\n",
       "  1891: 21.92,\n",
       "  1890: 22.0,\n",
       "  1889: 9.82,\n",
       "  1888: 60.31,\n",
       "  1887: 35.83,\n",
       "  1886: 36.03,\n",
       "  1885: 27.87,\n",
       "  1884: 16.81,\n",
       "  1883: 0.0,\n",
       "  1882: 0.0,\n",
       "  1881: 0.0,\n",
       "  1880: 0.0,\n",
       "  1879: 0.0,\n",
       "  1878: 0.0,\n",
       "  1877: 0.0,\n",
       "  1876: 0.0,\n",
       "  1875: 0.0,\n",
       "  1874: 0.0,\n",
       "  1873: 0.0,\n",
       "  1872: 0.0,\n",
       "  1871: 0.0,\n",
       "  1870: 0.0,\n",
       "  1869: 0.0,\n",
       "  1868: 0.0,\n",
       "  1867: 0.0,\n",
       "  1866: 0.0,\n",
       "  1865: 0.0,\n",
       "  1864: 0.0,\n",
       "  1863: 0.0,\n",
       "  1862: 0.0,\n",
       "  1861: 0.0,\n",
       "  1860: 0.0,\n",
       "  1859: 0.0,\n",
       "  1858: 0.0,\n",
       "  1857: 0.0,\n",
       "  1856: 0.0,\n",
       "  1855: 0.0,\n",
       "  1854: 0.0,\n",
       "  1853: 0.0,\n",
       "  1852: 0.0,\n",
       "  1851: 0.0,\n",
       "  1850: 0.0,\n",
       "  1849: 0.0,\n",
       "  1848: 0.0,\n",
       "  1847: 0.0,\n",
       "  1846: 0.0,\n",
       "  1845: 0.0,\n",
       "  1844: 0.0,\n",
       "  1843: 0.0,\n",
       "  1842: 0.0,\n",
       "  1841: 0.0,\n",
       "  1840: 0.0,\n",
       "  1839: 0.0,\n",
       "  1838: 0.0,\n",
       "  1837: 0.0,\n",
       "  1836: 0.0,\n",
       "  1835: 0.0,\n",
       "  1834: 0.0,\n",
       "  1833: 0.0,\n",
       "  1832: 0.0,\n",
       "  1831: 0.0,\n",
       "  1830: 0.0,\n",
       "  1829: 0.0,\n",
       "  1828: 0.0,\n",
       "  1827: 0.0,\n",
       "  1826: 0.0,\n",
       "  1825: 0.0,\n",
       "  1824: 0.0,\n",
       "  1823: 0.0,\n",
       "  1822: 0.0,\n",
       "  1821: 0.0,\n",
       "  1820: 0.0,\n",
       "  1819: 0.0,\n",
       "  1818: 0.0,\n",
       "  1817: 0.0,\n",
       "  1816: 0.0,\n",
       "  1815: 0.0,\n",
       "  1814: 0.0,\n",
       "  1813: 0.0,\n",
       "  1812: 0.0,\n",
       "  1811: 0.0,\n",
       "  1810: 0.0,\n",
       "  1809: 0.0,\n",
       "  1808: 0.0,\n",
       "  1807: 0.0,\n",
       "  1806: 0.0,\n",
       "  1805: 0.0,\n",
       "  1804: 0.0,\n",
       "  1803: 0.0,\n",
       "  1802: 0.0,\n",
       "  1801: 0.0,\n",
       "  1800: 0.0,\n",
       "  1790: 0.0,\n",
       "  1780: 0.0,\n",
       "  1770: 0.0,\n",
       "  1760: 0.0,\n",
       "  1750: 0.0}}"
      ]
     },
     "execution_count": 25,
     "metadata": {},
     "output_type": "execute_result"
    }
   ],
   "source": [
    "data()"
   ]
  },
  {
   "cell_type": "markdown",
   "metadata": {},
   "source": [
    "Ruta para obtener datos por país (/data/country/{country}): \n",
    "Devuelve los datos de un país específico."
   ]
  },
  {
   "cell_type": "code",
   "execution_count": 31,
   "metadata": {},
   "outputs": [],
   "source": [
    "@app.get('/data/country/{country}')\n",
    "def country(country: str):\n",
    "    if country not in df['Entity'].values:\n",
    "        return{'Error':f\"{country} not found\"}\n",
    "    data= df[df['Entity']== country].sort_values(ascending=False, by='Year')\n",
    "    dic={}\n",
    "    for i in range(len(data)):\n",
    "        dic[int(data['Year'].iloc[i])]=float(data['Annual CO₂ emissions (per capita)'].iloc[i])\n",
    "    return {country:dic}"
   ]
  },
  {
   "cell_type": "code",
   "execution_count": 33,
   "metadata": {},
   "outputs": [
    {
     "data": {
      "text/plain": [
       "{'Error': 'Mexic not found'}"
      ]
     },
     "execution_count": 33,
     "metadata": {},
     "output_type": "execute_result"
    }
   ],
   "source": [
    "country('Mexic')"
   ]
  },
  {
   "cell_type": "markdown",
   "metadata": {},
   "source": [
    "Ruta para obtener datos por año (/data/year/{year}): Devuelve los \n",
    "datos de un año específico."
   ]
  },
  {
   "cell_type": "code",
   "execution_count": 34,
   "metadata": {},
   "outputs": [],
   "source": [
    "@app.get('/data/year/{year}')\n",
    "def year(year: int):\n",
    "    if year not in df['Year'].values:\n",
    "        return{'Error':f\"{year} not found\"}\n",
    "    data= df[df['Year']== year].sort_values(ascending=False, by='Entity')\n",
    "    dic={}\n",
    "    for i in range(len(data)):\n",
    "        dic[int(data['Entity'].iloc[i])]=float(data['Annual CO₂ emissions (per capita)'].iloc[i])\n",
    "    return {year:dic}"
   ]
  },
  {
   "cell_type": "code",
   "execution_count": 36,
   "metadata": {},
   "outputs": [
    {
     "data": {
      "text/plain": [
       "{'Error': '2023 not found'}"
      ]
     },
     "execution_count": 36,
     "metadata": {},
     "output_type": "execute_result"
    }
   ],
   "source": [
    "year(2023)"
   ]
  }
 ],
 "metadata": {
  "kernelspec": {
   "display_name": "Python 3",
   "language": "python",
   "name": "python3"
  },
  "language_info": {
   "codemirror_mode": {
    "name": "ipython",
    "version": 3
   },
   "file_extension": ".py",
   "mimetype": "text/x-python",
   "name": "python",
   "nbconvert_exporter": "python",
   "pygments_lexer": "ipython3",
   "version": "3.11.0"
  }
 },
 "nbformat": 4,
 "nbformat_minor": 2
}
